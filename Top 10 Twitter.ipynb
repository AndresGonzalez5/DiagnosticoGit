{
 "cells": [
  {
   "cell_type": "code",
   "execution_count": 2,
   "metadata": {},
   "outputs": [
    {
     "name": "stdout",
     "output_type": "stream",
     "text": [
      "Requirement already satisfied: opendatasets in c:\\users\\andyb\\appdata\\local\\programs\\python\\python37\\lib\\site-packages (0.1.20)\n",
      "Requirement already satisfied: click in c:\\users\\andyb\\appdata\\local\\programs\\python\\python37\\lib\\site-packages (from opendatasets) (7.1.2)\n",
      "Requirement already satisfied: kaggle in c:\\users\\andyb\\appdata\\local\\programs\\python\\python37\\lib\\site-packages (from opendatasets) (1.5.12)\n",
      "Requirement already satisfied: tqdm in c:\\users\\andyb\\appdata\\local\\programs\\python\\python37\\lib\\site-packages (from opendatasets) (4.52.0)\n",
      "Requirement already satisfied: six>=1.10 in c:\\users\\andyb\\appdata\\local\\programs\\python\\python37\\lib\\site-packages (from kaggle->opendatasets) (1.14.0)Note: you may need to restart the kernel to use updated packages.\n",
      "\n",
      "Requirement already satisfied: certifi in c:\\users\\andyb\\appdata\\local\\programs\\python\\python37\\lib\\site-packages (from kaggle->opendatasets) (2020.11.8)\n",
      "Requirement already satisfied: python-dateutil in c:\\users\\andyb\\appdata\\local\\programs\\python\\python37\\lib\\site-packages (from kaggle->opendatasets) (2.8.1)\n",
      "Requirement already satisfied: requests in c:\\users\\andyb\\appdata\\local\\programs\\python\\python37\\lib\\site-packages (from kaggle->opendatasets) (2.25.0)\n",
      "Requirement already satisfied: python-slugify in c:\\users\\andyb\\appdata\\local\\programs\\python\\python37\\lib\\site-packages (from kaggle->opendatasets) (6.1.1)\n",
      "Requirement already satisfied: urllib3 in c:\\users\\andyb\\appdata\\local\\programs\\python\\python37\\lib\\site-packages (from kaggle->opendatasets) (1.26.2)\n",
      "Requirement already satisfied: text-unidecode>=1.3 in c:\\users\\andyb\\appdata\\local\\programs\\python\\python37\\lib\\site-packages (from python-slugify->kaggle->opendatasets) (1.3)\n",
      "Requirement already satisfied: idna<3,>=2.5 in c:\\users\\andyb\\appdata\\local\\programs\\python\\python37\\lib\\site-packages (from requests->kaggle->opendatasets) (2.10)\n",
      "Requirement already satisfied: chardet<4,>=3.0.2 in c:\\users\\andyb\\appdata\\local\\programs\\python\\python37\\lib\\site-packages (from requests->kaggle->opendatasets) (3.0.4)\n"
     ]
    }
   ],
   "source": [
    "%pip install opendatasets"
   ]
  },
  {
   "cell_type": "code",
   "execution_count": 1,
   "metadata": {},
   "outputs": [],
   "source": [
    "import numpy as np\n",
    "import pandas as pd\n",
    "import json\n",
    "import opendatasets as od\n",
    "import re"
   ]
  },
  {
   "cell_type": "markdown",
   "metadata": {},
   "source": [
    "No correr la celda de abajo, ya que esa descarga los archivos de >1gb y se demora mucho."
   ]
  },
  {
   "cell_type": "code",
   "execution_count": 5,
   "metadata": {},
   "outputs": [
    {
     "name": "stdout",
     "output_type": "stream",
     "text": [
      "Please provide your Kaggle credentials to download this dataset. Learn more: http://bit.ly/kaggle-creds\n",
      "Your Kaggle username: andresgonzalez5\n",
      "Your Kaggle Key: ········\n"
     ]
    },
    {
     "name": "stderr",
     "output_type": "stream",
     "text": [
      "  2%|▏         | 3.00M/191M [00:00<00:06, 31.4MB/s]"
     ]
    },
    {
     "name": "stdout",
     "output_type": "stream",
     "text": [
      "Downloading farmers-protest-tweets-dataset-raw-json.zip to .\\farmers-protest-tweets-dataset-raw-json\n"
     ]
    },
    {
     "name": "stderr",
     "output_type": "stream",
     "text": [
      "100%|██████████| 191M/191M [00:03<00:00, 56.9MB/s] \n"
     ]
    },
    {
     "name": "stdout",
     "output_type": "stream",
     "text": [
      "\n"
     ]
    }
   ],
   "source": [
    "od.download('https://www.kaggle.com/prathamsharma123/farmers-protest-tweets-dataset-raw-json')"
   ]
  },
  {
   "cell_type": "code",
   "execution_count": 2,
   "metadata": {},
   "outputs": [],
   "source": [
    "tweets = []\n",
    "for line in open('farmers-protest-tweets-dataset-raw-json/farmers-protest-tweets-2021-03-5.json', 'r'):\n",
    "    tweets.append(json.loads(line))"
   ]
  },
  {
   "cell_type": "code",
   "execution_count": 8,
   "metadata": {},
   "outputs": [],
   "source": [
    "def LeastRetweetedInList(lista_top):\n",
    "    minimo = lista_top[0]['retweetCount']\n",
    "    pos_minimo = 0\n",
    "    for i in range(10):\n",
    "        if lista_top[i]['retweetCount'] < minimo:\n",
    "            minimo = lista_top[i]['retweetCount']\n",
    "            pos_minimo = i\n",
    "    return pos_minimo\n",
    "\n",
    "\n",
    "def FindMostRetweets(twts):\n",
    "    # Nota: Existe parametro llamado retweetCount en cada objeto\n",
    "    tweets_list = []\n",
    "    TopList = np.empty(10, dtype=object)\n",
    "    for tweet in twts:\n",
    "        counter_see_none = 0\n",
    "        if None in TopList:\n",
    "            # Encontrar espacio vacío para dejar tweet en la lista\n",
    "            for objeto in TopList:\n",
    "                if TopList[counter_see_none] == None:\n",
    "                    TopList[counter_see_none] = tweet\n",
    "                    break\n",
    "                counter_see_none += 1\n",
    "        else:\n",
    "            # Ya esta establecido que esta llena la lista\n",
    "            posicion_cambiar = LeastRetweetedInList(TopList)\n",
    "            if TopList[posicion_cambiar]['retweetCount'] < tweet['retweetCount']:\n",
    "                TopList[posicion_cambiar] = tweet\n",
    "    for e in TopList:\n",
    "        tweets_list.append(e['content'])\n",
    "    return print(\"Los Top 10 tweets mas retweeted son: \\n\", tweets_list, \"\\n--------------------------------------------\\n\")"
   ]
  },
  {
   "cell_type": "code",
   "execution_count": 9,
   "metadata": {},
   "outputs": [],
   "source": [
    "def LeastActiveUserInList(lista_top):\n",
    "    minimo = lista_top[0]['user']['statusesCount']\n",
    "    pos_minimo = 0\n",
    "    for i in range(10):\n",
    "        if lista_top[i]['user']['statusesCount'] < minimo:\n",
    "            minimo = lista_top[i]['user']['statusesCount']\n",
    "            pos_minimo = i\n",
    "    return pos_minimo\n",
    "\n",
    "\n",
    "def FindMostActiveUsers(twts):\n",
    "    # Encontrar los usuarios que tengan su statusesCount mas alto\n",
    "    TopList = np.empty(10, dtype=object)\n",
    "    for tweet in twts:\n",
    "        counter_see_none = 0\n",
    "        if None in TopList:\n",
    "            # Encontrar espacio vacío para dejar tweet en la lista\n",
    "            for objeto in TopList:\n",
    "                if TopList[counter_see_none] == None:\n",
    "                    TopList[counter_see_none] = tweet\n",
    "                    break\n",
    "                counter_see_none += 1\n",
    "        else:\n",
    "            # Ya esta establecido que esta llena la lista\n",
    "            # Revisar preliminarmente si el usuario del tweet ya esta en la lista\n",
    "            user_repetido = False\n",
    "            for obj in TopList:\n",
    "                if obj['user']['username'] == tweet['user']['username']:\n",
    "                    user_repetido = True\n",
    "            posicion_cambiar = LeastActiveUserInList(TopList)\n",
    "            if (TopList[posicion_cambiar]['user']['statusesCount'] < tweet['user']['statusesCount']) & (not user_repetido):\n",
    "                TopList[posicion_cambiar] = tweet\n",
    "    UsersSet = set()\n",
    "    for element in TopList:\n",
    "        UsersSet.add(element['user']['username'])\n",
    "    return print(\"Los Top 10 usuarios son: \\n\", UsersSet, \"\\n--------------------------------------------\\n\")"
   ]
  },
  {
   "cell_type": "code",
   "execution_count": 10,
   "metadata": {},
   "outputs": [],
   "source": [
    "def LeastActiveDayInList(lista_top):\n",
    "    minimo = lista_top[0]['user']['statusesCount']\n",
    "    pos_minimo = 0\n",
    "    for i in range(10):\n",
    "        if lista_top[i]['user']['statusesCount'] < minimo:\n",
    "            minimo = lista_top[i]['user']['statusesCount']\n",
    "            pos_minimo = i\n",
    "    return pos_minimo\n",
    "\n",
    "def FindMostActiveDays(twts):\n",
    "    lista_dias = dict()\n",
    "    TopList = []\n",
    "    for tweet in twts:\n",
    "        if tweet['date'][:10] not in lista_dias:\n",
    "            lista_dias[tweet['date'][:10]] = 0\n",
    "        else:\n",
    "            og_num = lista_dias[tweet['date'][:10]]\n",
    "            lista_dias[tweet['date'][:10]] = og_num + 1\n",
    "            \n",
    "    for i in range(10):\n",
    "        find_max = max(lista_dias, key=lista_dias.get)\n",
    "        TopList.append(find_max)\n",
    "        del lista_dias[find_max]\n",
    "    return print(\"Los Top 10 dias más tweeteados son: \\n\", TopList, \"\\n--------------------------------------------\\n\")"
   ]
  },
  {
   "cell_type": "code",
   "execution_count": 11,
   "metadata": {},
   "outputs": [],
   "source": [
    "def FindMostHashtags(twts):\n",
    "    lista_tweets = dict()\n",
    "    TopList = []\n",
    "    for tweet in twts:\n",
    "        remove_whitespaces = re.split(' ', tweet['content'])\n",
    "        for e in remove_whitespaces:\n",
    "            remove_newlines = re.split('\\n', e)\n",
    "            for excerpt in remove_newlines:\n",
    "                if excerpt == '' or excerpt == '#':\n",
    "                    continue\n",
    "                elif excerpt[0] == \"#\":\n",
    "                    s = re.sub(r'[\\W_]+', '', excerpt)\n",
    "                    if s not in lista_tweets:\n",
    "                        lista_tweets[s] = 1\n",
    "                    else:\n",
    "                        og_num = lista_tweets[s]\n",
    "                        lista_tweets[s] = og_num + 1\n",
    "                        \n",
    "    for i in range(10):\n",
    "        find_max = max(lista_tweets, key=lista_tweets.get)\n",
    "        TopList.append(find_max)\n",
    "        del lista_tweets[find_max]\n",
    "    return print(\"Los Top 10 hashtags mas usados son: \\n\", TopList, \"\\n--------------------------------------------\\n\")"
   ]
  },
  {
   "cell_type": "code",
   "execution_count": 12,
   "metadata": {},
   "outputs": [
    {
     "name": "stdout",
     "output_type": "stream",
     "text": [
      "Los Top 10 tweets mas retweeted son: \n",
      " ['To all of my influencer/celeb friends- read up on this   #FarmersProtest 👀', '“Paid actors,” huh? Quite the casting director, I hope they’re not overlooked during awards season. I stand with the farmers. #FarmersProtest https://t.co/moONj03tN0', 'Happy to share that I’ve donated $10,000 to provide medical assistance to the farmers in need in India to help save lives during these times. I hope we can prevent any additional life from being lost. 🙏🏾 #FarmersProtest https://t.co/0WoEw0l3ij', 'why aren’t we talking about this?! #FarmersProtest https://t.co/obmIlXhK9S', 'I still #StandWithFarmers and support their peaceful protest.\\nNo amount of hate, threats or violations of human rights will ever change that. #FarmersProtest', 'Farmers feed the world. Fight for them. Protect them #FarmersProtest', 'Should be talking about this! #FarmersProtest\\n\\nhttps://t.co/Xh09iTvVoF', 'We stand in solidarity with the #FarmersProtest in India.\\n https://t.co/tqvR0oHgo0', 'There has been much social media coverage around the #FarmersProtest in #India. Very useful guide to the legislation and the impact on farmers. 1/2 https://t.co/3CsdgBebdZ', 'What in the human rights violations is going on?! They cut the internet around New Delhi?! #FarmersProtest https://t.co/a5ml1P2ikU'] \n",
      "--------------------------------------------\n",
      "\n",
      "Los Top 10 usuarios son: \n",
      " {'animesh1977', 'GeorgekurianINC', 'CNNnews18', 'unbiased100', 'pavan_sethi', 'threadreaderapp', 'CNBCTV18Live', 'CyberAnonymous', 'htTweets', 'IndiaToday'} \n",
      "--------------------------------------------\n",
      "\n",
      "Los Top 10 dias más tweeteados son: \n",
      " ['2021-02-03', '2021-02-04', '2021-02-05', '2021-02-02', '2021-02-06', '2021-02-07', '2021-02-09', '2021-02-08', '2021-02-10', '2021-02-11'] \n",
      "--------------------------------------------\n",
      "\n",
      "Los Top 10 hashtags mas usados son: \n",
      " ['FarmersProtest', 'IStandWithFarmers', 'farmersprotest', 'IndianFarmersHumanRights', 'FarmersAreIndia', 'StandWithFarmers', 'Rihanna', 'FarmersProtests', 'Farmers', 'shameonbollywood'] \n",
      "--------------------------------------------\n",
      "\n"
     ]
    }
   ],
   "source": [
    "def Main(tweets):\n",
    "    FindMostRetweets(tweets)\n",
    "    FindMostActiveUsers(tweets)\n",
    "    FindMostActiveDays(tweets)\n",
    "    FindMostHashtags(tweets)\n",
    "\n",
    "\n",
    "if __name__ == \"__main__\":\n",
    "    Main(tweets)"
   ]
  }
 ],
 "metadata": {
  "interpreter": {
   "hash": "a30d58c84dc4026495fb6b409bf02f7921f1dd1d8b1efbc229c08fa12376be9e"
  },
  "kernelspec": {
   "display_name": "Python 3",
   "language": "python",
   "name": "python3"
  },
  "language_info": {
   "codemirror_mode": {
    "name": "ipython",
    "version": 3
   },
   "file_extension": ".py",
   "mimetype": "text/x-python",
   "name": "python",
   "nbconvert_exporter": "python",
   "pygments_lexer": "ipython3",
   "version": "3.7.6"
  }
 },
 "nbformat": 4,
 "nbformat_minor": 2
}
