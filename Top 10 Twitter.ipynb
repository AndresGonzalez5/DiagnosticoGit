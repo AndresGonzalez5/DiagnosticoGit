{
 "cells": [
  {
   "cell_type": "code",
   "execution_count": 1,
   "metadata": {},
   "outputs": [
    {
     "name": "stdout",
     "output_type": "stream",
     "text": [
      "Requirement already satisfied: opendatasets in c:\\users\\andyb\\appdata\\local\\programs\\python\\python37\\lib\\site-packages (0.1.20)\n",
      "Requirement already satisfied: click in c:\\users\\andyb\\appdata\\local\\programs\\python\\python37\\lib\\site-packages (from opendatasets) (7.1.2)\n",
      "Requirement already satisfied: tqdm in c:\\users\\andyb\\appdata\\local\\programs\\python\\python37\\lib\\site-packages (from opendatasets) (4.52.0)\n",
      "Requirement already satisfied: kaggle in c:\\users\\andyb\\appdata\\local\\programs\\python\\python37\\lib\\site-packages (from opendatasets) (1.5.12)\n",
      "Requirement already satisfied: six>=1.10 in c:\\users\\andyb\\appdata\\local\\programs\\python\\python37\\lib\\site-packages (from kaggle->opendatasets) (1.14.0)\n",
      "Requirement already satisfied: certifi in c:\\users\\andyb\\appdata\\local\\programs\\python\\python37\\lib\\site-packages (from kaggle->opendatasets) (2020.11.8)\n",
      "Requirement already satisfied: python-dateutil in c:\\users\\andyb\\appdata\\local\\programs\\python\\python37\\lib\\site-packages (from kaggle->opendatasets) (2.8.1)\n",
      "Requirement already satisfied: requests in c:\\users\\andyb\\appdata\\local\\programs\\python\\python37\\lib\\site-packages (from kaggle->opendatasets) (2.25.0)\n",
      "Requirement already satisfied: python-slugify in c:\\users\\andyb\\appdata\\local\\programs\\python\\python37\\lib\\site-packages (from kaggle->opendatasets) (6.1.1)\n",
      "Requirement already satisfied: urllib3 in c:\\users\\andyb\\appdata\\local\\programs\\python\\python37\\lib\\site-packages (from kaggle->opendatasets) (1.26.2)\n",
      "Requirement already satisfied: text-unidecode>=1.3 in c:\\users\\andyb\\appdata\\local\\programs\\python\\python37\\lib\\site-packages (from python-slugify->kaggle->opendatasets) (1.3)\n",
      "Requirement already satisfied: chardet<4,>=3.0.2 in c:\\users\\andyb\\appdata\\local\\programs\\python\\python37\\lib\\site-packages (from requests->kaggle->opendatasets) (3.0.4)\n",
      "Requirement already satisfied: idna<3,>=2.5 in c:\\users\\andyb\\appdata\\local\\programs\\python\\python37\\lib\\site-packages (from requests->kaggle->opendatasets) (2.10)\n",
      "Note: you may need to restart the kernel to use updated packages.\n"
     ]
    }
   ],
   "source": [
    "%pip install opendatasets"
   ]
  },
  {
   "cell_type": "code",
   "execution_count": 4,
   "metadata": {},
   "outputs": [],
   "source": [
    "import numpy as np\n",
    "import pandas as pd\n",
    "import json\n",
    "import opendatasets as od"
   ]
  },
  {
   "cell_type": "code",
   "execution_count": 5,
   "metadata": {},
   "outputs": [
    {
     "name": "stdout",
     "output_type": "stream",
     "text": [
      "Please provide your Kaggle credentials to download this dataset. Learn more: http://bit.ly/kaggle-creds\n",
      "Your Kaggle username: andresgonzalez5\n",
      "Your Kaggle Key: ········\n"
     ]
    },
    {
     "name": "stderr",
     "output_type": "stream",
     "text": [
      "  2%|▏         | 3.00M/191M [00:00<00:06, 31.4MB/s]"
     ]
    },
    {
     "name": "stdout",
     "output_type": "stream",
     "text": [
      "Downloading farmers-protest-tweets-dataset-raw-json.zip to .\\farmers-protest-tweets-dataset-raw-json\n"
     ]
    },
    {
     "name": "stderr",
     "output_type": "stream",
     "text": [
      "100%|██████████| 191M/191M [00:03<00:00, 56.9MB/s] \n"
     ]
    },
    {
     "name": "stdout",
     "output_type": "stream",
     "text": [
      "\n"
     ]
    }
   ],
   "source": [
    "od.download('https://www.kaggle.com/prathamsharma123/farmers-protest-tweets-dataset-raw-json')"
   ]
  },
  {
   "cell_type": "code",
   "execution_count": 6,
   "metadata": {},
   "outputs": [],
   "source": [
    "tweets = []\n",
    "for line in open('farmers-protest-tweets-dataset-raw-json/farmers-protest-tweets-2021-03-5.json', 'r'):\n",
    "    tweets.append(json.loads(line))"
   ]
  }
 ],
 "metadata": {
  "interpreter": {
   "hash": "a30d58c84dc4026495fb6b409bf02f7921f1dd1d8b1efbc229c08fa12376be9e"
  },
  "kernelspec": {
   "display_name": "Python 3",
   "language": "python",
   "name": "python3"
  },
  "language_info": {
   "codemirror_mode": {
    "name": "ipython",
    "version": 3
   },
   "file_extension": ".py",
   "mimetype": "text/x-python",
   "name": "python",
   "nbconvert_exporter": "python",
   "pygments_lexer": "ipython3",
   "version": "3.7.6"
  }
 },
 "nbformat": 4,
 "nbformat_minor": 2
}
